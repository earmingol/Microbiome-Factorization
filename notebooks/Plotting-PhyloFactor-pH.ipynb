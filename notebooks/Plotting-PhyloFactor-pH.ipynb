{
 "cells": [
  {
   "cell_type": "code",
   "execution_count": 1,
   "metadata": {},
   "outputs": [
    {
     "name": "stderr",
     "output_type": "stream",
     "text": [
      "Loading required package: ape\n",
      "Loading required package: magrittr\n",
      "Loading required package: data.table\n",
      "Loading required package: Matrix\n",
      "\n",
      "Attaching package: ‘treeio’\n",
      "\n",
      "The following object is masked from ‘package:ape’:\n",
      "\n",
      "    drop.tip\n",
      "\n",
      "ggtree v1.14.6  For help: https://guangchuangyu.github.io/software/ggtree\n",
      "\n",
      "If you use ggtree in published research, please cite the most appropriate paper(s):\n",
      "\n",
      "- Guangchuang Yu, David Smith, Huachen Zhu, Yi Guan, Tommy Tsan-Yuk Lam. ggtree: an R package for visualization and annotation of phylogenetic trees with their covariates and other associated data. Methods in Ecology and Evolution 2017, 8(1):28-36, doi:10.1111/2041-210X.12628\n",
      "\n",
      "- Guangchuang Yu, Tommy Tsan-Yuk Lam, Huachen Zhu, Yi Guan. Two methods for mapping and visualizing associated data on phylogeny using ggtree. Molecular Biology and Evolution 2018, accepted. doi: 10.1093/molbev/msy194\n",
      "\n",
      "Attaching package: ‘ggtree’\n",
      "\n",
      "The following object is masked from ‘package:Matrix’:\n",
      "\n",
      "    expand\n",
      "\n",
      "The following object is masked from ‘package:magrittr’:\n",
      "\n",
      "    inset\n",
      "\n",
      "The following object is masked from ‘package:ape’:\n",
      "\n",
      "    rotate\n",
      "\n"
     ]
    }
   ],
   "source": [
    "library(phylofactor)\n",
    "library(\"treeio\")\n",
    "library(\"ggtree\")\n",
    "library(\"ggplot2\")\n",
    "library(readr)"
   ]
  },
  {
   "cell_type": "markdown",
   "metadata": {},
   "source": [
    "# Load Data"
   ]
  },
  {
   "cell_type": "markdown",
   "metadata": {},
   "source": [
    "MODIFY THE PATH OF Microbiome-Factorization"
   ]
  },
  {
   "cell_type": "code",
   "execution_count": null,
   "metadata": {},
   "outputs": [],
   "source": [
    "ROOT <- \"/Users/earmingol/Dropbox/Universidad/UCSanDiego/Lab_Knight/Microbiome-Factorization/\""
   ]
  },
  {
   "cell_type": "code",
   "execution_count": null,
   "metadata": {},
   "outputs": [],
   "source": [
    "INPUTS_ <- paste(ROOT, \"/outputs/PhyloFactor/\", sep='')\n",
    "OUTPUTS_ <- INPUTS_ # You can Modify this by a completely different path"
   ]
  },
  {
   "cell_type": "code",
   "execution_count": 3,
   "metadata": {},
   "outputs": [],
   "source": [
    "Taxonomy_filename <- paste(ROOT, \"/data/GreenGenes/97_otu_taxonomy.txt\", sep='')\n",
    "\n",
    "# Read taxonomy\n",
    "taxonomy_ <- read.csv(Taxonomy_filename, header=TRUE, sep=\"\\t\", check.names=FALSE)\n",
    "colnames(taxonomy_) <- c(\"id\", \"taxonomy\")"
   ]
  },
  {
   "cell_type": "markdown",
   "metadata": {},
   "source": [
    "Plot parameters"
   ]
  },
  {
   "cell_type": "code",
   "execution_count": 2,
   "metadata": {},
   "outputs": [],
   "source": [
    "# Phenotypes to plot\n",
    "phenotypes_ <- c('PhClasses')\n",
    "\n",
    "# PhyloFactor stuff\n",
    "data_type_ = \"16S_\"\n",
    "ncores <- 3\n",
    "factors_ <- 40\n",
    "fam_ <- 'binomial' # Family for model in phylofactor (glm by default)\n",
    "max_var_ <-'F'\n",
    "phenotype_type_ <- \"Categorical\" # Categorical or Continuous\n",
    "phenotype_bin_size <- 5  # Used only for Continuous phenotype. Bin size to convert phenotype to Categorical.\n",
    "\n",
    "# Plotting setups\n",
    "dpi <- 150 # For saving plots\n",
    "tree_size <- 0.05 # Tree branches thickness\n",
    "tree_labelsize <- 2 # Tipslabels\n"
   ]
  },
  {
   "cell_type": "markdown",
   "metadata": {},
   "source": [
    "Make plots"
   ]
  },
  {
   "cell_type": "code",
   "execution_count": 4,
   "metadata": {
    "scrolled": false
   },
   "outputs": [
    {
     "name": "stdout",
     "output_type": "stream",
     "text": [
      "[1] \"PhClasses was correctly loaded\"\n"
     ]
    },
    {
     "name": "stderr",
     "output_type": "stream",
     "text": [
      "Coordinate system already present. Adding new coordinate system, which will replace the existing one.\n"
     ]
    }
   ],
   "source": [
    "for (phen in 1:length(phenotypes_)){\n",
    "    # Load RData files\n",
    "    INPUTS <- INPUTS_\n",
    "    phenotype <- phenotypes_[phen]\n",
    "    load(file=paste(INPUTS, data_type_, phenotype, factors_, \".Rdata\", sep=\"\"))\n",
    "    print(paste(phenotype, \"was correctly loaded\"))\n",
    "    \n",
    "    # Replace variables in case they exist in the Rdata file\n",
    "    OUTPUTS <- OUTPUTS_\n",
    "    phenotype <- phenotypes_[phen]\n",
    "    MetaData <- train_MetaData\n",
    "    taxonomy <- taxonomy_\n",
    "    factors <- factors_\n",
    "    fam <- fam_\n",
    "    max_var <- max_var_\n",
    "    phenotype_type <- phenotype_type_\n",
    "    data_type <- data_type_\n",
    "    \n",
    "    # Original Tree\n",
    "    png(paste(OUTPUTS, data_type, phenotype, factors, \"_Original_Tree.png\", sep=''), res=dpi,  width=1000, height=1000)\n",
    "    tax <- as.vector(subset(taxonomy, id %in% filtered_tree$tip.label)[,'taxonomy'])\n",
    "    new_tax <- c()\n",
    "    for (a in 1:length(tax)){\n",
    "        tax_names <- unlist(strsplit(tax[a], \"\\\\;\"))\n",
    "        new_name <- paste(substring(tax_names[2], 5), substring(tax_names[3], 5), sep=' ')\n",
    "        new_tax <- c(new_tax, new_name)\n",
    "    }\n",
    "    \n",
    "    filtered_tree$tip.label = new_tax\n",
    "    original_tree <- ggtree(filtered_tree, size=tree_size) + geom_tiplab(size=tree_labelsize)\n",
    "    plot(original_tree)\n",
    "    dev.off()\n",
    "    \n",
    "    # Factorized tree\n",
    "    png(paste(OUTPUTS, data_type_, phenotype, factors, \"_Factorized_Tree.png\", sep=''), res=dpi,  width=1000, height=1000)\n",
    "    tax2 <- subset(taxonomy, id %in% pf_PhyloFactor$tree$tip.label)\n",
    "    sorter <- as.vector(unlist(pf_PhyloFactor$tree$tip.label))\n",
    "    tax2 <- tax2[factor(tax2$id, levels=sorter), ] \n",
    "    new_tax <- c()\n",
    "    for (a in 1:dim(tax2)[1]){\n",
    "            tax_names <- unlist(strsplit(as.vector(tax2[a, 'taxonomy']), \"\\\\;\"))\n",
    "            new_name <- paste(substring(tax_names[2], 5), substring(tax_names[3], 5), sep=' ')\n",
    "            new_tax <- c(new_tax, new_name)\n",
    "        }\n",
    "    tax2[,'taxonomy'] <- new_tax\n",
    "    gtree <- pf.tree(pf_PhyloFactor, size=tree_size)\n",
    "    gtree2 <- ggtree::rotate_tree(gtree$ggplot,-45) %<+% tax2 + geom_tiplab(size=tree_labelsize, aes(label=factor(taxonomy), angle=angle))\n",
    "    plot(gtree2, xpd = NA)\n",
    "    dev.off()\n",
    "    \n",
    "    # Heatmap\n",
    "    png(paste(OUTPUTS, data_type, phenotype, factors, \"_Heatmap.png\", sep=''), res=dpi, width=1000, height=1000)\n",
    "    hm <- pf.heatmap(pf_PhyloFactor,factors=1:factors,column.order = order(MetaData[,phenotype]))\n",
    "    plot(hm)\n",
    "    dev.off()\n",
    "    \n",
    "    # Boxplot\n",
    "    png(paste(OUTPUTS, data_type, phenotype, factors, \"_Factor_Boxplots.png\", sep=''), res=dpi,  width=1000, height=1000)\n",
    "    par(mfrow=c(2, 5)) #, mar=c(1,1,1,1))\n",
    "    x <- pf_PhyloFactor$X[,phenotype]\n",
    "    \n",
    "    \n",
    "    if (phenotype_type == \"Continuous\"){\n",
    "            MetaData$CatMeta <-cut(MetaData[,phenotype], seq(from=min(MetaData[,phenotype]), to=max(MetaData[,phenotype]), length.out = phenotype_bin_size))\n",
    "            unique_phenotypes <- sort(levels(MetaData$CatMeta))\n",
    "        } else if (phenotype_type == \"Categorical\") {\n",
    "            MetaData$CatMeta <- MetaData[,phenotype]\n",
    "            unique_phenotypes <- sort(unique(MetaData[,phenotype]))\n",
    "        } else {\n",
    "             stop('PHENOTYPE_TYPE must be Continuous or Categorical')\n",
    "        }\n",
    "    \n",
    "    # Only ten factors\n",
    "    for (i in 1:10){\n",
    "        y <- t(pf_PhyloFactor$basis[,i]) %*% log(pf_PhyloFactor$Data)\n",
    "        tmp_name = paste('FACTOR', i, sep='')\n",
    "        MetaData[,tmp_name] = t(y)\n",
    "        # Initialize val\n",
    "        elements <- rownames(MetaData[MetaData$CatMeta == unique_phenotypes[1], ])\n",
    "        val <- list(y[, elements[elements != 'NA']])\n",
    "        #Continue filling val\n",
    "        for (j in 2:length(unique_phenotypes)){\n",
    "            elements <- rownames(MetaData[MetaData$CatMeta == unique_phenotypes[j], ])\n",
    "            val[[j]] <- y[, elements[elements != 'NA']]\n",
    "        } \n",
    "        boxplot(val,col=gtree$legend$colors[i], xlab=\"\" ,ylab='ILR abundance',\n",
    "                    main=paste('Factor',i), xaxt=\"none\")\n",
    "        #mtext(phenotype, side=3)\n",
    "        axis(1, at=1:length(unique_phenotypes), labels=unique_phenotypes, las=2, cex=0.2)\n",
    "    }\n",
    "    title(phenotype, line = -1, outer = TRUE, cex=3.5)\n",
    "    dev.off()\n",
    "    \n",
    "    # Print Factors\n",
    "    sink(paste(OUTPUTS, data_type, phenotype, factors, \".txt\", sep=\"\"))\n",
    "    for (i in 1:factors){\n",
    "        cat(paste('\\nFACTOR', i, ':\\t', pf.taxa(pf_PhyloFactor,taxonomy,factor=i)$group1))\n",
    "        #cat(\"\\n\")\n",
    "    }\n",
    "    sink()\n",
    "}"
   ]
  },
  {
   "cell_type": "code",
   "execution_count": null,
   "metadata": {},
   "outputs": [],
   "source": []
  }
 ],
 "metadata": {
  "kernelspec": {
   "display_name": "R",
   "language": "R",
   "name": "ir"
  },
  "language_info": {
   "codemirror_mode": "r",
   "file_extension": ".r",
   "mimetype": "text/x-r-source",
   "name": "R",
   "pygments_lexer": "r",
   "version": "3.5.1"
  }
 },
 "nbformat": 4,
 "nbformat_minor": 2
}
