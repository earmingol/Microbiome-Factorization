{
 "cells": [
  {
   "cell_type": "code",
   "execution_count": 1,
   "metadata": {},
   "outputs": [],
   "source": [
    "%matplotlib inline\n",
    "import pandas as pd, seaborn as sns, numpy as np, matplotlib.pyplot as plt\n",
    "\n",
    "from sklearn.model_selection import train_test_split\n",
    "from sklearn.ensemble import RandomForestClassifier\n",
    "from sklearn.model_selection import RandomizedSearchCV, GridSearchCV, learning_curve, StratifiedKFold, train_test_split\n",
    "from sklearn.model_selection._split import check_cv\n",
    "from sklearn.base import is_classifier\n",
    "from sklearn.metrics import roc_curve, auc, precision_recall_curve, average_precision_score\n",
    "\n",
    "from scipy import interp"
   ]
  },
  {
   "cell_type": "code",
   "execution_count": 10,
   "metadata": {},
   "outputs": [],
   "source": [
    "def rf_pf_predictions(RF_inputs, PF_inputs, phenotype = ''):  \n",
    "    # Figure\n",
    "    fig, ax = plt.subplots()\n",
    "    fig.set_size_inches(5, 5)\n",
    "    \n",
    "    # RF\n",
    "    X_train = RF_inputs['X_train']\n",
    "    X_test = RF_inputs['X_test']\n",
    "    y_train = RF_inputs['y_train']\n",
    "    y_test = RF_inputs['y_test']\n",
    "    estimator = RF_inputs['estimator']    \n",
    "    paramgrid = RF_inputs['paragrid']\n",
    "    \n",
    "    for params in paramgrid:\n",
    "        #aucs = []\n",
    "        model = estimator(**params)\n",
    "        \n",
    "        model.fit(X_train, y_train)\n",
    "        probas = model.predict_proba(X_test)\n",
    "\n",
    "        precision, recall, _ = precision_recall_curve(y_test, probas[:,1])\n",
    " \n",
    "        ap_value1 = average_precision_score(y_test, probas[:,1])            \n",
    "    \n",
    "        ax.step(recall, precision, color='steelblue',\n",
    "                label='RandomForest PRC, AP: {0:0.2f}'.format(ap_value1),\n",
    "                lw=2, alpha=.8)\n",
    "\n",
    "    # PF\n",
    "    y_test = PF_inputs['y_test']\n",
    "    y_probas = PF_inputs['y_probas']\n",
    "    \n",
    "    precision, recall, _ = precision_recall_curve(y_test, y_probas)\n",
    "\n",
    "    ap_value2 = average_precision_score(y_test, y_probas)\n",
    "\n",
    "    ax.step(recall, precision, color='orange',\n",
    "            label='PhyloFactor PRC, AP: {0:0.2f}'.format(ap_value2),\n",
    "            lw=2, alpha=.8)\n",
    "\n",
    "    ax.set_xlabel('Recall')\n",
    "    ax.set_ylabel('Precision')\n",
    "    ax.set_ylim([0.0, 1.05])\n",
    "    ax.set_xlim([0.0, 1.0])\n",
    "\n",
    "    ax.set_title('Precision-Recall curve: {}'.format(phenotype))\n",
    "    ax.legend(loc=\"best\")\n",
    "    \n",
    "    yield ax"
   ]
  },
  {
   "cell_type": "markdown",
   "metadata": {},
   "source": [
    "# RF Data"
   ]
  },
  {
   "cell_type": "markdown",
   "metadata": {},
   "source": [
    "MODIFY THE PATH OF Microbiome-Factorization"
   ]
  },
  {
   "cell_type": "code",
   "execution_count": null,
   "metadata": {},
   "outputs": [],
   "source": [
    "ROOT = \"/Users/earmingol/Dropbox/Universidad/UCSanDiego/Lab_Knight/Microbiome-Factorization/\""
   ]
  },
  {
   "cell_type": "code",
   "execution_count": 3,
   "metadata": {},
   "outputs": [],
   "source": [
    "train_OTUs_filename = ROOT + \"/outputs/train_filtered_OTUs_table.tsv\"\n",
    "test_OTUs_filename = ROOT + \"/outputs/test_filtered_OTUs_table.tsv\"\n",
    "\n",
    "train_MetaData_filename = ROOT + \"/outputs/train_filtered_metadata.txt\"\n",
    "test_MetaData_filename = ROOT + \"/outputs/test_filtered_metadata.txt\""
   ]
  },
  {
   "cell_type": "code",
   "execution_count": 4,
   "metadata": {},
   "outputs": [],
   "source": [
    "X_train = pd.read_csv(train_OTUs_filename, sep='\\t', index_col='#OTU ID')\n",
    "X_test = pd.read_csv(test_OTUs_filename, sep='\\t', index_col='#OTU ID')"
   ]
  },
  {
   "cell_type": "code",
   "execution_count": 5,
   "metadata": {},
   "outputs": [],
   "source": [
    "y_train = pd.read_csv(train_MetaData_filename, sep='\\t', index_col='#SampleID')\n",
    "y_test = pd.read_csv(test_MetaData_filename, sep='\\t', index_col='#SampleID')"
   ]
  },
  {
   "cell_type": "markdown",
   "metadata": {},
   "source": [
    "# PF Data"
   ]
  },
  {
   "cell_type": "code",
   "execution_count": 6,
   "metadata": {},
   "outputs": [],
   "source": [
    "PF_DATA_FOLDER = ROOT + '/outputs/PhyloFactor/'\n",
    "DATA_TYPE = '16S_'"
   ]
  },
  {
   "cell_type": "markdown",
   "metadata": {},
   "source": [
    "# Phenotypes to evaluate"
   ]
  },
  {
   "cell_type": "code",
   "execution_count": 7,
   "metadata": {},
   "outputs": [],
   "source": [
    "OUTPUT_FOLDER = ROOT + '/outputs/'"
   ]
  },
  {
   "cell_type": "code",
   "execution_count": 8,
   "metadata": {},
   "outputs": [],
   "source": [
    "columns = ['PhClasses',\n",
    "          ]\n",
    "\n",
    "phenotypes = {'PhClasses' : 'pH'}"
   ]
  },
  {
   "cell_type": "markdown",
   "metadata": {},
   "source": [
    "# Analyze both models"
   ]
  },
  {
   "cell_type": "code",
   "execution_count": 11,
   "metadata": {},
   "outputs": [
    {
     "name": "stdout",
     "output_type": "stream",
     "text": [
      "processing PhClasses\n",
      "16S_PhClasses.png\n"
     ]
    },
    {
     "data": {
      "image/png": "[encoded data removed]",
      "text/plain": [
       "<Figure size 360x360 with 1 Axes>"
      ]
     },
     "metadata": {
      "needs_background": "light"
     },
     "output_type": "display_data"
    }
   ],
   "source": [
    "errored = []\n",
    "models = []\n",
    "\n",
    "\n",
    "for col in columns:\n",
    "    print('processing %s' % col)\n",
    "\n",
    "    # Random Forest\n",
    "    train = X_train.copy()\n",
    "    test = X_test.copy()\n",
    "    mf_train = y_train.copy()\n",
    "    mf_test = y_test.copy()\n",
    "\n",
    "    labels_train = pd.to_numeric(mf_train[col], errors='coerce')\n",
    "    labels_train.dropna(inplace=True)\n",
    "    train = train.loc[:,list(labels_train.index)]\n",
    "    \n",
    "    labels_test = pd.to_numeric(mf_test[col], errors='coerce')\n",
    "    labels_test.dropna(inplace=True)\n",
    "    test = test.loc[:,list(labels_test.index)]\n",
    "\n",
    "    RF_inputs = dict()\n",
    "    RF_inputs['X_train'] = train.T.values\n",
    "    RF_inputs['X_test'] = test.T.values\n",
    "    RF_inputs['y_train'] = labels_train.values\n",
    "    RF_inputs['y_test'] = labels_test.values\n",
    "    RF_inputs['estimator'] = RandomForestClassifier\n",
    "    RF_inputs['paragrid'] = [{'n_estimators':1000, 'n_jobs':4}]\n",
    "    RF_inputs['cv'] = StratifiedKFold(2)\n",
    "    \n",
    "    # PhyloFactor\n",
    "    \n",
    "    table = pd.read_csv(PF_DATA_FOLDER+DATA_TYPE+col+\".csv\")\n",
    "    \n",
    "    PF_inputs = dict()\n",
    "    PF_inputs['y_test'] = table['True']\n",
    "    PF_inputs['y_probas'] = table['Predicted']\n",
    "    \n",
    "    AX = rf_pf_predictions(RF_inputs, PF_inputs, phenotype = phenotypes[col])\n",
    "    \n",
    "    \n",
    "    # Predictions and Figures\n",
    "    ax = next(AX)\n",
    "\n",
    "    output = DATA_TYPE + col + '_PR-Curve.png'\n",
    "    print(output)\n",
    "    \n",
    "    plt.savefig(OUTPUT_FOLDER + output, dpi=326)"
   ]
  },
  {
   "cell_type": "code",
   "execution_count": null,
   "metadata": {},
   "outputs": [],
   "source": []
  }
 ],
 "metadata": {
  "kernelspec": {
   "display_name": "Python 3",
   "language": "python",
   "name": "python3"
  },
  "language_info": {
   "codemirror_mode": {
    "name": "ipython",
    "version": 3
   },
   "file_extension": ".py",
   "mimetype": "text/x-python",
   "name": "python",
   "nbconvert_exporter": "python",
   "pygments_lexer": "ipython3",
   "version": "3.7.3"
  }
 },
 "nbformat": 4,
 "nbformat_minor": 2
}
