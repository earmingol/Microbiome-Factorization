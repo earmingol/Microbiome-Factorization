{
 "cells": [
  {
   "cell_type": "code",
   "execution_count": 1,
   "metadata": {},
   "outputs": [
    {
     "name": "stderr",
     "output_type": "stream",
     "text": [
      "Loading required package: ape\n",
      "Loading required package: magrittr\n",
      "Loading required package: data.table\n",
      "Loading required package: Matrix\n",
      "\n",
      "Attaching package: ‘treeio’\n",
      "\n",
      "The following object is masked from ‘package:ape’:\n",
      "\n",
      "    drop.tip\n",
      "\n",
      "ggtree v1.14.6  For help: https://guangchuangyu.github.io/software/ggtree\n",
      "\n",
      "If you use ggtree in published research, please cite the most appropriate paper(s):\n",
      "\n",
      "- Guangchuang Yu, David Smith, Huachen Zhu, Yi Guan, Tommy Tsan-Yuk Lam. ggtree: an R package for visualization and annotation of phylogenetic trees with their covariates and other associated data. Methods in Ecology and Evolution 2017, 8(1):28-36, doi:10.1111/2041-210X.12628\n",
      "\n",
      "- Guangchuang Yu, Tommy Tsan-Yuk Lam, Huachen Zhu, Yi Guan. Two methods for mapping and visualizing associated data on phylogeny using ggtree. Molecular Biology and Evolution 2018, accepted. doi: 10.1093/molbev/msy194\n",
      "\n",
      "Attaching package: ‘ggtree’\n",
      "\n",
      "The following object is masked from ‘package:Matrix’:\n",
      "\n",
      "    expand\n",
      "\n",
      "The following object is masked from ‘package:magrittr’:\n",
      "\n",
      "    inset\n",
      "\n",
      "The following object is masked from ‘package:ape’:\n",
      "\n",
      "    rotate\n",
      "\n",
      "randomForest 4.6-14\n",
      "Type rfNews() to see new features/changes/bug fixes.\n",
      "\n",
      "Attaching package: ‘randomForest’\n",
      "\n",
      "The following object is masked from ‘package:ggplot2’:\n",
      "\n",
      "    margin\n",
      "\n"
     ]
    }
   ],
   "source": [
    "library(phylofactor)\n",
    "library(\"treeio\")\n",
    "library(\"ggtree\")\n",
    "library(\"ggplot2\")\n",
    "library(readr)\n",
    "library(randomForest)"
   ]
  },
  {
   "cell_type": "markdown",
   "metadata": {},
   "source": [
    "# Load Data"
   ]
  },
  {
   "cell_type": "markdown",
   "metadata": {},
   "source": [
    "MODIFY THE PATH OF Microbiome-Factorization"
   ]
  },
  {
   "cell_type": "code",
   "execution_count": null,
   "metadata": {},
   "outputs": [],
   "source": [
    "ROOT <- \"/Users/earmingol/Dropbox/Universidad/UCSanDiego/Lab_Knight/Microbiome-Factorization/\""
   ]
  },
  {
   "cell_type": "markdown",
   "metadata": {},
   "source": [
    "Load Data"
   ]
  },
  {
   "cell_type": "code",
   "execution_count": 2,
   "metadata": {},
   "outputs": [],
   "source": [
    "train_OTUs_filename <- paste(ROOT, \"/outputs/train_filtered_OTUs_table.tsv\", sep='')\n",
    "test_OTUs_filename <- paste(ROOT, \"/outputs/test_filtered_OTUs_table.tsv\", sep='')\n",
    "train_MetaData_filename <- paste(ROOT, \"/outputs/train_filtered_metadata.txt\", sep='')\n",
    "test_MetaData_filename <- paste(ROOT, \"/outputs/test_filtered_metadata.txt\", sep='')\n",
    "\n",
    "Tree_filename <- paste(ROOT, \"/data/GreenGenes/97_otus.tree\", sep='')\n",
    "Taxonomy_filename <- paste(ROOT, \"/data/GreenGenes/97_otu_taxonomy.txt\", sep='')"
   ]
  },
  {
   "cell_type": "code",
   "execution_count": 3,
   "metadata": {},
   "outputs": [],
   "source": [
    "# Read OTUs table\n",
    "train_OTUs_ <- read.csv(train_OTUs_filename, header=TRUE, sep=\"\\t\", check.names=FALSE, row.names=1)\n",
    "test_OTUs_ <- read.csv(test_OTUs_filename, header=TRUE, sep=\"\\t\", check.names=FALSE, row.names=1)"
   ]
  },
  {
   "cell_type": "code",
   "execution_count": 4,
   "metadata": {},
   "outputs": [],
   "source": [
    "# Read Metadata\n",
    "train_MetaData_ <- read.csv(train_MetaData_filename, header=TRUE, sep=\"\\t\", row.names=1, check.names=FALSE)\n",
    "test_MetaData_ <- read.csv(test_MetaData_filename, header=TRUE, sep=\"\\t\", row.names=1, check.names=FALSE)"
   ]
  },
  {
   "cell_type": "code",
   "execution_count": 5,
   "metadata": {},
   "outputs": [],
   "source": [
    "# Read taxonomy\n",
    "taxonomy <- read.csv(Taxonomy_filename, header=TRUE, sep=\"\\t\", check.names=FALSE)\n",
    "colnames(taxonomy) <- c(\"id\", \"taxonomy\")"
   ]
  },
  {
   "cell_type": "code",
   "execution_count": 5,
   "metadata": {},
   "outputs": [],
   "source": [
    "# Read Tree\n",
    "tree <- read.tree(Tree_filename, tree.names=1)"
   ]
  },
  {
   "cell_type": "markdown",
   "metadata": {},
   "source": [
    "# Analysis"
   ]
  },
  {
   "cell_type": "markdown",
   "metadata": {},
   "source": [
    "Parameters"
   ]
  },
  {
   "cell_type": "code",
   "execution_count": 7,
   "metadata": {},
   "outputs": [],
   "source": [
    "phenotypes <- c('PhClasses')\n",
    "\n",
    "data_type = \"16S_\"\n",
    "ncores <- 3\n",
    "OUTPUTS <- paste(ROOT, \"/outputs/PhyloFactor/\", sep='')\n",
    "\n",
    "factors <- 40\n",
    "fam <- 'binomial'\n",
    "max_var='F'\n",
    "phenotype_type <- \"Categorical\" # Categorical or Continuous"
   ]
  },
  {
   "cell_type": "markdown",
   "metadata": {},
   "source": [
    "Analysis"
   ]
  },
  {
   "cell_type": "code",
   "execution_count": 8,
   "metadata": {},
   "outputs": [
    {
     "name": "stderr",
     "output_type": "stream",
     "text": [
      "Warning message in PhyloFactor(train_OTUs, filtered_tree, train_MetaData, frmla = model, :\n",
      "“Data has zeros and will receive default modification of zeros. Zeros will be replaced column wise with delta*min(x[x>0]), default delta=0.65”"
     ]
    },
    {
     "name": "stdout",
     "output_type": "stream",
     "text": [
      " 3 factors completed in 0.0221 minutes.     Estimated time of completion: 2019-06-10 16:31:48   \r"
     ]
    },
    {
     "name": "stderr",
     "output_type": "stream",
     "text": [
      "Warning message:\n",
      "“glm.fit: fitted probabilities numerically 0 or 1 occurred”"
     ]
    },
    {
     "name": "stdout",
     "output_type": "stream",
     "text": [
      "\r",
      " 4 factors completed in 0.029 minutes.     Estimated time of completion: 2019-06-10 16:31:48   \r"
     ]
    },
    {
     "name": "stderr",
     "output_type": "stream",
     "text": [
      "Warning message:\n",
      "“glm.fit: fitted probabilities numerically 0 or 1 occurred”"
     ]
    },
    {
     "name": "stdout",
     "output_type": "stream",
     "text": [
      " 6 factors completed in 0.0423 minutes.     Estimated time of completion: 2019-06-10 16:31:47   \r"
     ]
    },
    {
     "name": "stderr",
     "output_type": "stream",
     "text": [
      "Warning message in PhyloRegression(TransformedData, X, frmla, Grps, contrast.fcn, :\n",
      "“Objective function produced 2 identical groups. Will choose group at random.”"
     ]
    },
    {
     "name": "stdout",
     "output_type": "stream",
     "text": [
      " 37 factors completed in 0.288 minutes.     Estimated time of completion: 2019-06-10 16:31:49    \r"
     ]
    },
    {
     "name": "stderr",
     "output_type": "stream",
     "text": [
      "Warning message in PhyloRegression(TransformedData, X, frmla, Grps, contrast.fcn, :\n",
      "“Objective function produced 2 identical groups. Will choose group at random.”"
     ]
    },
    {
     "name": "stdout",
     "output_type": "stream",
     "text": [
      " 40 factors completed in 0.315 minutes.     Estimated time of completion: 2019-06-10 16:31:49   \r"
     ]
    },
    {
     "name": "stderr",
     "output_type": "stream",
     "text": [
      "Warning message in PhyloFactor(test_OTUs, filtered_tree, test_MetaData, frmla = model, :\n",
      "“Data has zeros and will receive default modification of zeros. Zeros will be replaced column wise with delta*min(x[x>0]), default delta=0.65”"
     ]
    },
    {
     "name": "stdout",
     "output_type": "stream",
     "text": [
      "\r",
      " 1 factor completed in 0.00944 minutes.    Estimated time of completion: 2019-06-10 16:31:53   \r"
     ]
    },
    {
     "name": "stderr",
     "output_type": "stream",
     "text": [
      "Warning message in randomForest.default(x = X$Data, y = X[, phenotype], ntree = 1000):\n",
      "“The response has five or fewer unique values.  Are you sure you want to do regression?”"
     ]
    }
   ],
   "source": [
    "for (i in 1:length(phenotypes)){\n",
    "    phenotype <- phenotypes[i]\n",
    "    model <- paste(phenotypes[i], \"~Data\", sep=\"\")\n",
    "    \n",
    "    # Drop nans\n",
    "    train_MetaData <- train_MetaData_[!is.na(train_MetaData_[,phenotype]),]\n",
    "    test_MetaData <- test_MetaData_[!is.na(test_MetaData_[,phenotype]),]\n",
    "    train_OTUs <- na.omit(train_OTUs_)\n",
    "    test_OTUs <- na.omit(test_OTUs_)\n",
    "    \n",
    "    # Filter OTUs by samples in metadata\n",
    "    train_OTUs_in_meta <- rownames(train_MetaData)\n",
    "    test_OTUs_in_meta <- rownames(test_MetaData)\n",
    "\n",
    "    train_OTUs_not_in_meta <- train_OTUs_in_meta[which(!train_OTUs_in_meta %in% colnames(train_OTUs))]\n",
    "    test_OTUs_not_in_meta <- test_OTUs_in_meta[which(!test_OTUs_in_meta %in% colnames(test_OTUs))]\n",
    "\n",
    "    train_OTUs_order_by_meta <- train_OTUs_in_meta[which(train_OTUs_in_meta %in% colnames(train_OTUs))]\n",
    "    test_OTUs_order_by_meta <- test_OTUs_in_meta[which(test_OTUs_in_meta %in% colnames(test_OTUs))]\n",
    "    \n",
    "    # Sort by metadata order (columns)\n",
    "    train_OTUs <- train_OTUs[,train_OTUs_order_by_meta]\n",
    "    test_OTUs <- test_OTUs[,test_OTUs_order_by_meta]\n",
    "    \n",
    "    # Filter tree\n",
    "    OTUs_in_tree <- rownames(train_OTUs)[rownames(train_OTUs) %in% tree$tip.label]\n",
    "    tips_not_in_OTUs <- tree$tip.label[which(!tree$tip.label %in% rownames(train_OTUs))]\n",
    "    filtered_tree <- drop.tip(tree, tips_not_in_OTUs)\n",
    "    OTUs_in_filtered_tree <- filtered_tree$tip.label\n",
    "    \n",
    "    # Filter OTUs by species in tree\n",
    "    train_OTUs <- train_OTUs[filtered_tree$tip.label,]\n",
    "    test_OTUs <- test_OTUs[filtered_tree$tip.label,]\n",
    "    \n",
    "    # Run PhyloFactor\n",
    "    pf_PhyloFactor <- PhyloFactor(train_OTUs, filtered_tree, train_MetaData, frmla = model, nfactors=factors,\n",
    "                                  choice=max_var,ncores=ncores, family=fam)\n",
    "    \n",
    "    pf_test <- PhyloFactor(test_OTUs, filtered_tree, test_MetaData, frmla = model, nfactors=1,\n",
    "                              choice=max_var,ncores=ncores, family=fam)\n",
    "    \n",
    "    # Train model\n",
    "    X <- train_MetaData\n",
    "    X$Data <- t(t(pf_PhyloFactor$basis[,1:factors]) %*% log(pf_PhyloFactor$Data))\n",
    "    #logit <- glm(model, data = X, family = fam)\n",
    "    logit <- randomForest(x = X$Data, y= X[,phenotype], ntree=1000)\n",
    "    \n",
    "    # Predict on test data\n",
    "    Y <- test_MetaData\n",
    "    \n",
    "    Y$Data <- t(t(pf_PhyloFactor$basis[,1:factors]) %*% log(pf_test$Data))\n",
    "    #predicted_y <- predict(logit, newdata = Y, type = \"response\")\n",
    "    predicted_y <- predict(logit, newdata = Y$Data, type = \"response\")\n",
    "    values <- data.frame(pf_test$X[,phenotype], predicted_y)\n",
    "    colnames(values) <- c('True', 'Predicted')\n",
    "    \n",
    "    # Save results\n",
    "    write.csv(values, file = paste(OUTPUTS, data_type, phenotype, \".csv\", sep=\"\"))\n",
    "    save.image(file=paste(OUTPUTS, data_type, phenotype, factors, \".Rdata\", sep=\"\"))\n",
    "}"
   ]
  },
  {
   "cell_type": "code",
   "execution_count": null,
   "metadata": {},
   "outputs": [],
   "source": []
  }
 ],
 "metadata": {
  "kernelspec": {
   "display_name": "R",
   "language": "R",
   "name": "ir"
  },
  "language_info": {
   "codemirror_mode": "r",
   "file_extension": ".r",
   "mimetype": "text/x-r-source",
   "name": "R",
   "pygments_lexer": "r",
   "version": "3.5.1"
  }
 },
 "nbformat": 4,
 "nbformat_minor": 2
}
